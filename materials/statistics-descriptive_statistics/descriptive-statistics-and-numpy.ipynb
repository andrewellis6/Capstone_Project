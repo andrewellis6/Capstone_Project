{
 "cells": [
  {
   "cell_type": "markdown",
   "metadata": {},
   "source": [
    "<img src=\"http://imgur.com/1ZcRyrc.png\" style=\"float: left; margin: 20px; height: 55px\">\n",
    "\n",
    "## Introduction to Statistics with `numpy`\n",
    "\n",
    "_Author: Justin Pounders (ATL) based in part on materials from Kiefer Katovich (SF) and Dave Yerrington (SF)_\n",
    "\n",
    "---"
   ]
  },
  {
   "cell_type": "markdown",
   "metadata": {},
   "source": [
    "---\n",
    "\n",
    "### Notebook Guide\n",
    "\n",
    "- [1. Measures of Central Tendency](#central_tendency)\n",
    "    - [1.1 Mean](#mean)\n",
    "    - [1.2 Media](#median)\n",
    "    - [1.3 Mode](#mode)\n",
    "    - [1.4 Skewness](#skewness)\n",
    "- [2. Measures of Dispersion](#dispersion)\n",
    "    - [2.1 Range](#range)\n",
    "    - [2.2 Variance](#variance)\n",
    "    - [2.3 Stadnard Deviation](#std)\n",
    "- [3. Covariance and Correlation](#covcar)\n",
    "    - [3.1 Covariance](#covariance)\n",
    "    - [3.2 Correlation](#correlation)\n",
    "- [4. Independent Practice](#independent_practice)\n"
   ]
  },
  {
   "cell_type": "markdown",
   "metadata": {},
   "source": [
    "<a id='central_tendency'></a>\n",
    "# 1. Measures of Central Tendency\n"
   ]
  },
  {
   "cell_type": "markdown",
   "metadata": {},
   "source": [
    "<a id='mean'></a>\n",
    "## 1.1 Mean\n",
    "\n",
    "The mean is the sum of the numbers in a list, divided by the length of that list.\n",
    "\n",
    "**Check:** Find the mean of this list using Python:"
   ]
  },
  {
   "cell_type": "code",
   "execution_count": null,
   "metadata": {
    "collapsed": true
   },
   "outputs": [],
   "source": [
    "samples = [1,2,3,4,5,6,7,8,9,5.3,55.22]"
   ]
  },
  {
   "cell_type": "markdown",
   "metadata": {},
   "source": [
    "<a id='median'></a>\n",
    "## 1.2 Median\n",
    "\n",
    "For odd-length vectors: The median is the middle number of the ordered list.\n",
    "\n",
    "For even-length vectors: The median is the average of the two middle-most numbers of the ordered list.\n",
    "\n",
    "We will be reviewing and coding the following cases for calculating the median of a distribution of numbers:"
   ]
  },
  {
   "cell_type": "markdown",
   "metadata": {},
   "source": [
    "#### Calculate the Median\n",
    "\n",
    "Here are two samples we will work with.  One set has an odd number of samples, while the other is even.  From  here, we will work with these basic objects."
   ]
  },
  {
   "cell_type": "code",
   "execution_count": null,
   "metadata": {
    "collapsed": true
   },
   "outputs": [],
   "source": [
    "n_odd = [1,5,9,2,8,3,10,15,7]\n",
    "n_even = [8,2,3,1,0,-1,-5,20]"
   ]
  },
  {
   "cell_type": "markdown",
   "metadata": {},
   "source": [
    "#### Median step 1:  Order the numbers\n",
    "\n",
    "First we must sort our list objects in ascending order, making sure to reassign/update our list objects with the new ascending order."
   ]
  },
  {
   "cell_type": "code",
   "execution_count": null,
   "metadata": {
    "collapsed": true
   },
   "outputs": [],
   "source": []
  },
  {
   "cell_type": "markdown",
   "metadata": {},
   "source": [
    "#### Median for odd-length vectors: Find the middle number\n",
    "\n",
    "Find the middle number in a given list sequence for our object, `n_odd`.  \n",
    "\n",
    "To find the median for an odd sequence of numbers, perform the following operations:\n",
    "\n",
    "1. Divide the length of our list in half. \n",
    "- Subtract .5 from the divided length.\n",
    "- Select the offset of the `n_odd` list based on the halfed length - .5."
   ]
  },
  {
   "cell_type": "code",
   "execution_count": null,
   "metadata": {
    "collapsed": true
   },
   "outputs": [],
   "source": [
    "# Try it out.  Find the median "
   ]
  },
  {
   "cell_type": "markdown",
   "metadata": {},
   "source": [
    "#### Median for even-length vectors: Average the center elements\n",
    "    \n",
    "1. Divide the length of our list in half.\n",
    "- Average the `sample_length - 1` item of the even list (`n_even`) with the `sample_length` item of that list."
   ]
  },
  {
   "cell_type": "code",
   "execution_count": null,
   "metadata": {
    "collapsed": true
   },
   "outputs": [],
   "source": [
    "# Seek the median using Python!  "
   ]
  },
  {
   "cell_type": "markdown",
   "metadata": {},
   "source": [
    "<a id='mode'></a>\n",
    "## 1.3 Mode\n",
    "\n",
    "**The mode is the most frequently occurring number.**\n",
    "\n",
    "Finding the mode is not as straightforward as the mean or median, so let's walk through how to calculate it using `scipy.stats.mode()`. \n",
    "\n",
    "**With a partner, take 10 minutes to review the docs on `scipy.stats.mode()`, and implement the solution to find the mode of the assigned variable sample below. For this activity, Google is a good place to start. *(If you finish early, check out some other functions in scipy.stats!)* **\n"
   ]
  },
  {
   "cell_type": "code",
   "execution_count": null,
   "metadata": {
    "collapsed": true
   },
   "outputs": [],
   "source": [
    "from scipy import stats\n",
    "sample = [0,1,1,2,2,2,2,3,3,4,4,4,5]"
   ]
  },
  {
   "cell_type": "markdown",
   "metadata": {},
   "source": [
    "#### Once again, with `scipy`\n",
    "\n",
    "Thankfully, we have a library that is easy to use and computationally optimized in `scipy` that can help us do the heavy lifting.  When possible it's best to use functions in `scipy` and `numpy`, since they are robust and fast. \n",
    "\n",
    "Using `scipy` and `numpy`, find the mean, median, and mode of the distribution `sample` below."
   ]
  },
  {
   "cell_type": "code",
   "execution_count": null,
   "metadata": {
    "collapsed": true
   },
   "outputs": [],
   "source": [
    "# Import Python modules here\n",
    "from scipy import stats\n",
    "import numpy as np\n",
    "\n",
    "\n",
    "sample = [3, 75, 98, 2, 10, 3, 14, 99, 44, 25, 31, 100, 356, 4, 23, 55, 327, 64, 6, 20]\n",
    "\n",
    "# Your solution here\n",
    "# Mean: 67.95, Median: 28.0, Mode: 3.000000, Mode Count: 2"
   ]
  },
  {
   "cell_type": "markdown",
   "metadata": {},
   "source": [
    "<a id='skewness'></a>\n",
    "## 1.4 Skewness and the mean/median/mode\n",
    "\n",
    "Skewness refers to the lack of symmetry in a distribution of data.\n",
    "\n",
    "[Technical note: we will be talking about skewness here only in the context of _unimodal_ distributions.]\n",
    "\n",
    "![](assets/images/skewness.png)\n",
    "\n",
    "A *positive-skewed* distribution is one whose right tail is longer or fatter than its left. \n",
    "\n",
    "Conversely, a *negative-skewed* distribution is one whose left tail is longer or fatter than its right.\n",
    "\n",
    "\n",
    "Symmetric distributions have no skewness!\n"
   ]
  },
  {
   "cell_type": "markdown",
   "metadata": {},
   "source": [
    "Does the list of numbers below form a symmetric distribution? Is it skewed left of right?"
   ]
  },
  {
   "cell_type": "code",
   "execution_count": null,
   "metadata": {
    "collapsed": true
   },
   "outputs": [],
   "source": [
    "# This is our sample\n",
    "sample = [3, 75, 98, 2, 10, 3, 14, 99, 44, 25, 31, 100, 356, 4, 23, 10, 55, 327, 64, 6, 20]"
   ]
  },
  {
   "cell_type": "code",
   "execution_count": null,
   "metadata": {
    "collapsed": true
   },
   "outputs": [],
   "source": [
    "# We can code a quick example to plot this distribution\n",
    "# import pandas as pd\n",
    "# import seaborn as sns\n",
    "\n",
    "# df = pd.DataFrame(sample)\n",
    "\n",
    "# %matplotlib inline\n",
    "\n",
    "# df.hist(bins=len(sample))"
   ]
  },
  {
   "cell_type": "markdown",
   "metadata": {},
   "source": [
    "<a id='dispersion'></a>\n",
    "# 2. Measures of Dispersion\n",
    "\n",
    "---\n",
    "\n",
    "Measures of dispersion including the **range**, **variance**, and **standard deviation** tell you about the spread of your data.\n",
    "\n",
    "These measurements give complementary information to the measures of central tendency and are no less important.\n"
   ]
  },
  {
   "cell_type": "markdown",
   "metadata": {},
   "source": [
    "<a id='range'></a>\n",
    "## 2.1 Range\n",
    "\n",
    "The range is the space between the lowest and highest values of a distribution. Because this metric only depends on two observations, it's a simple calculation. Range shows how widely the numbers in a set vary.\n",
    "\n",
    "To calculate the range:\n",
    "\n",
    "1. Sort the `sample` object in ascending order.\n",
    "- Subtract the first item from the last item.\n",
    "- Compare your result with `numpy`'s `ptp()` method, which accomplishes the same task.\n"
   ]
  },
  {
   "cell_type": "code",
   "execution_count": null,
   "metadata": {
    "collapsed": true
   },
   "outputs": [],
   "source": [
    "sample = [3, 75, 98, 2, 10, 3, 14, 99, 44, 25, 31, 100, 356, 4, 23, 55, 327, 64, 6, 20]\n",
    "\n",
    "# With numpy:\n",
    "\n",
    "\n",
    "# Now implement this in pure Python"
   ]
  },
  {
   "cell_type": "markdown",
   "metadata": {},
   "source": [
    "<a id='variance'></a>\n",
    "## 2.2 Variance\n",
    "\n",
    "The variance is a numeric value used to describe the degree of spread in a distribution of the numbers.\n",
    "\n",
    "In Python, (population) variance can be calculated with:\n",
    "```python\n",
    "variance = []\n",
    "n_mean = np.mean(n)\n",
    "\n",
    "for n_ in n:\n",
    "  variance.append((n_ - n_mean) ** 2)\n",
    "\n",
    "variance = np.sum(variance)\n",
    "variance = variance / len(n)\n",
    "```\n",
    "\n",
    "Which is the average of the sum of the squared distances of each number from the mean of the numbers.\n",
    "\n",
    "Using `numpy` the variance is simply:\n",
    "```python\n",
    "variance = np.var(n)\n",
    "\n",
    "print(variance)\n",
    "9414.6475\n",
    "```\n",
    "\n",
    "![](assets/images/dist_with_variance.png)\n"
   ]
  },
  {
   "cell_type": "markdown",
   "metadata": {},
   "source": [
    "---\n",
    "\n",
    "**Turn and Talk**:\n",
    "\n",
    "With a neighbor, take 3 minutes to discuss the following questions.  I will call on campuses to share a response with all of us.\n",
    "\n",
    "- What could a distribution with a large variance look like? A small?\n",
    "- What does a variance of 0 mean?\n",
    "\n",
    "---"
   ]
  },
  {
   "cell_type": "markdown",
   "metadata": {},
   "source": [
    "Calculate the population and sample variances of the `sample` list.  \n",
    "\n",
    "(**Check**: what if I forget what the argument for the divisor is??)"
   ]
  },
  {
   "cell_type": "code",
   "execution_count": null,
   "metadata": {
    "collapsed": true
   },
   "outputs": [],
   "source": []
  },
  {
   "cell_type": "markdown",
   "metadata": {},
   "source": [
    "<a id='std'></a>\n",
    "## 2.3 Standard deviation\n",
    "\n",
    "The standard deviation is the square root of the variance.\n",
    "\n",
    "Because the variance is the average of the distances from the mean _squared_, the standard deviation tells us approximately, on average, the distance of numbers in a distribution from the mean of the distribution.\n",
    "\n",
    "The standard deviation can be calculated like so:\n",
    "```python\n",
    "std = np.std(n)\n",
    "\n",
    "print(std)\n",
    "97.029106457804716\n",
    "```\n",
    "\n",
    "![](assets/images/dist_with_var_std.png)\n"
   ]
  },
  {
   "cell_type": "markdown",
   "metadata": {},
   "source": [
    "Calculate the standard deviation of the `sample` list.  Is this the population or sample standard deviation?"
   ]
  },
  {
   "cell_type": "code",
   "execution_count": null,
   "metadata": {
    "collapsed": true
   },
   "outputs": [],
   "source": []
  },
  {
   "cell_type": "markdown",
   "metadata": {
    "collapsed": true
   },
   "source": [
    "<a id='covcor'></a>\n",
    "# 3. Covariance and Correlation"
   ]
  },
  {
   "cell_type": "markdown",
   "metadata": {},
   "source": [
    "<a id='covariance'></a>\n",
    "## 3.1 Covariance\n",
    "\n",
    "\n",
    "Covariance is a generalization of correlation that measures how two variables change together. However, it is not adjusted for individual variances like correlation. \n",
    "\n",
    "Covariances can take on any value, which means that interpreting covariance by itself is difficult to do. It makes more sense to compare two correlations than to compare two covariances.\n",
    "\n",
    "If you want to calculate the covariance between two variables in Python, use the following code:\n",
    "```python\n",
    "import numpy as np\n",
    "np.cov(var1,var2)\n",
    "```"
   ]
  },
  {
   "cell_type": "code",
   "execution_count": null,
   "metadata": {
    "collapsed": true
   },
   "outputs": [],
   "source": [
    "x = [1,2,5,2,3,7,1,2,6,8,3,4,2]\n",
    "y = [0,6,2,3,7,1,3,4,21,3,7,4,5]\n",
    "\n",
    "# Calculate the covariance between x and y"
   ]
  },
  {
   "cell_type": "markdown",
   "metadata": {},
   "source": [
    "<a id='correlation'></a>\n",
    "## 3.2 (Pearson's) Correlation Coefficient\n",
    "\n",
    "If you want to calculate the correlation between two variables with numpy, use the following code:\n",
    "```python\n",
    "import numpy as np\n",
    "np.corrcoef(var1,var2)\n",
    "```"
   ]
  },
  {
   "cell_type": "code",
   "execution_count": null,
   "metadata": {
    "collapsed": true
   },
   "outputs": [],
   "source": [
    "x = [1,2,5,2,3,7,1,2,6,8,3,4,2]\n",
    "y = [0,6,2,3,7,1,3,4,21,3,7,4,5]\n",
    "\n",
    "# Calculate the correlation coefficient between x and y"
   ]
  },
  {
   "cell_type": "markdown",
   "metadata": {},
   "source": [
    "<a id='independent_practice'></a>\n",
    "\n",
    "# 4. Independent Practice\n",
    "\n",
    "---\n",
    "\n",
    "Open up the notebook for [independent practice on the measures of central tendency](../measures-of-central-tendency-practice.ipynb). This is review of this lecture as well as extra practice programming in Python.\n"
   ]
  },
  {
   "cell_type": "code",
   "execution_count": null,
   "metadata": {
    "collapsed": true
   },
   "outputs": [],
   "source": []
  }
 ],
 "metadata": {
  "anaconda-cloud": {},
  "kernelspec": {
   "display_name": "Python [default]",
   "language": "python",
   "name": "python2"
  },
  "language_info": {
   "codemirror_mode": {
    "name": "ipython",
    "version": 2
   },
   "file_extension": ".py",
   "mimetype": "text/x-python",
   "name": "python",
   "nbconvert_exporter": "python",
   "pygments_lexer": "ipython2",
   "version": "2.7.13"
  }
 },
 "nbformat": 4,
 "nbformat_minor": 1
}
