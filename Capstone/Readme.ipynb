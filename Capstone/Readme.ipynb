{
 "cells": [
  {
   "cell_type": "markdown",
   "metadata": {},
   "source": [
    "# Massachusetts Education Capstone Project By: Andrew Ellis"
   ]
  },
  {
   "cell_type": "markdown",
   "metadata": {},
   "source": [
    "Despite being the richest country in the world, America ranks barely above average in reading and science, and below average in math according to the PEW Research center. My goal is to use public data from Massachusetts to idenitfy what features lead to high student outcomes. I chose this dataset from Kaggle because it was pre-merged and had over 300 features that I could analyze. However, after doing some initial EDA, I realized that there was still a significant amount of data-cleaning that needed to happen if I was going to run models that would give me proper insight. I am wondering what superintendents can do to turn around a school district."
   ]
  },
  {
   "cell_type": "markdown",
   "metadata": {},
   "source": [
    "# Part 1 - EDA and Visualization"
   ]
  },
  {
   "cell_type": "markdown",
   "metadata": {},
   "source": [
    "To start, these are the libraries and software supports (I am using a mac...)"
   ]
  },
  {
   "cell_type": "code",
   "execution_count": 1,
   "metadata": {},
   "outputs": [
    {
     "name": "stdout",
     "output_type": "stream",
     "text": [
      "Requirement already up-to-date: pandasql in /opt/conda/lib/python3.6/site-packages\n",
      "Requirement already up-to-date: numpy in /opt/conda/lib/python3.6/site-packages (from pandasql)\n",
      "Requirement already up-to-date: sqlalchemy in /opt/conda/lib/python3.6/site-packages (from pandasql)\n",
      "Requirement already up-to-date: pandas in /opt/conda/lib/python3.6/site-packages (from pandasql)\n",
      "Requirement already up-to-date: pytz>=2011k in /opt/conda/lib/python3.6/site-packages (from pandas->pandasql)\n",
      "Requirement already up-to-date: python-dateutil>=2 in /opt/conda/lib/python3.6/site-packages (from pandas->pandasql)\n",
      "Requirement already up-to-date: six>=1.5 in /opt/conda/lib/python3.6/site-packages (from python-dateutil>=2->pandas->pandasql)\n",
      "Requirement already up-to-date: pip in /opt/conda/lib/python3.6/site-packages\n"
     ]
    }
   ],
   "source": [
    "!pip install -U pandasql;\n",
    "!pip install --upgrade pip\n",
    "\n",
    "import pandas as pd\n",
    "import numpy as np\n",
    "import seaborn as sns\n",
    "\n",
    "import matplotlib.pyplot as plt\n",
    "\n",
    "from sklearn.model_selection import GridSearchCV, train_test_split, cross_val_score\n",
    "from sklearn.preprocessing import StandardScaler\n",
    "from sklearn.linear_model import Lasso, LassoCV, LinearRegression\n",
    "from sklearn.ensemble import RandomForestClassifier, RandomForestRegressor\n",
    "from sklearn.cluster import DBSCAN\n",
    "from pandasql import sqldf\n",
    "\n",
    "from matplotlib import cm\n",
    "from collections import OrderedDict\n",
    "\n",
    "cmaps = OrderedDict()\n",
    "\n",
    "%matplotlib inline"
   ]
  },
  {
   "cell_type": "markdown",
   "metadata": {},
   "source": [
    "After importing the necessary libraries, I converted the kaggle data set from: https://www.kaggle.com/ndalziel/massachusetts-public-schools-data/data to a pandas dataframe to make it easier to manipulate. I was able to identify columns with high counts of null values and features that will not lead to any predictive power (like fax number)."
   ]
  },
  {
   "cell_type": "markdown",
   "metadata": {},
   "source": [
    "After initially having trouble deciding on a target variable, I decided to split the data up and create dataframes specific to Elementary, Middle, and High Schools respectively. To do this, I had to think of what each type of school would contain that is unique to that type and I decided to split on certain grade levels. I chose 2nd for Elementary, 7th for Middle School, and 10th for High School."
   ]
  },
  {
   "cell_type": "code",
   "execution_count": null,
   "metadata": {},
   "outputs": [],
   "source": []
  }
 ],
 "metadata": {
  "kernelspec": {
   "display_name": "Python 3",
   "language": "python",
   "name": "python3"
  },
  "language_info": {
   "codemirror_mode": {
    "name": "ipython",
    "version": 3
   },
   "file_extension": ".py",
   "mimetype": "text/x-python",
   "name": "python",
   "nbconvert_exporter": "python",
   "pygments_lexer": "ipython3",
   "version": "3.6.3"
  }
 },
 "nbformat": 4,
 "nbformat_minor": 2
}
